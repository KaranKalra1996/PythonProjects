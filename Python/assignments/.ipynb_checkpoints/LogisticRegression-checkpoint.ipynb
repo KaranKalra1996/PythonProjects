{
 "cells": [
  {
   "cell_type": "code",
   "execution_count": 18,
   "metadata": {},
   "outputs": [],
   "source": [
    "import numpy as np\n",
    "import pandas as pd\n",
    "from sklearn.model_selection import train_test_split"
   ]
  },
  {
   "cell_type": "code",
   "execution_count": 19,
   "metadata": {},
   "outputs": [],
   "source": [
    "mydata=pd.read_csv(\"logistic_reg_data.csv\",index_col=False)\n",
    "xtrain,xtest,ytrain,ytest = train_test_split(mydata[[\"X\",\"Y\"]],mydata[[\"label\"]],test_size=0.2)\n",
    "X1=np.matrix(xtrain['X'])\n",
    "X2=np.matrix(xtrain['Y'])"
   ]
  },
  {
   "cell_type": "code",
   "execution_count": 20,
   "metadata": {},
   "outputs": [],
   "source": [
    "M_mat=np.concatenate((np.matrix(np.ones(xtrain.shape[0])).T,X1.T,X2.T),axis=1)\n",
    "Y=np.matrix(ytrain['label'])\n",
    "theta=np.zeros(M_mat.shape[1])\n",
    "theta=theta.reshape(M_mat.shape[1],1)\n",
    "itr=5000\n",
    "#print(\"Enter the Aphla\")\n",
    "aphla=0.1"
   ]
  },
  {
   "cell_type": "code",
   "execution_count": 21,
   "metadata": {},
   "outputs": [],
   "source": [
    "def sigmod(hipo):\n",
    "    return 1/(1+np.exp(-hipo))"
   ]
  },
  {
   "cell_type": "code",
   "execution_count": 22,
   "metadata": {},
   "outputs": [],
   "source": [
    "for i in range(itr):\n",
    "    appro_y=sigmod((np.dot(M_mat,theta)))\n",
    "    gradient= np.dot(M_mat.T,(appro_y-Y.T))\n",
    "    theta = theta- (0.1/160)*gradient"
   ]
  },
  {
   "cell_type": "code",
   "execution_count": 23,
   "metadata": {},
   "outputs": [],
   "source": [
    "xtest.reset_index(drop=True,inplace=True)\n",
    "ytest.reset_index(drop=True,inplace=True)\n",
    "X1=np.matrix(xtest['X'])\n",
    "X2=np.matrix(xtest['Y'])"
   ]
  },
  {
   "cell_type": "code",
   "execution_count": 17,
   "metadata": {},
   "outputs": [
    {
     "name": "stdout",
     "output_type": "stream",
     "text": [
      "87.5\n"
     ]
    }
   ],
   "source": [
    "MM_test=np.concatenate((np.matrix(np.ones(xtest.shape[0])).T,X1.T,X2.T),axis=1)\n",
    "result=sigmod((np.dot(MM_test,theta)))\n",
    "res=np.round(result)\n",
    "count=0\n",
    "for i in range(xtest.shape[0]):\n",
    "    if(res[i]==np.array(ytest)[i]):\n",
    "        count=count+1\n",
    "print((count/xtest.shape[0])*100)"
   ]
  },
  {
   "cell_type": "code",
   "execution_count": null,
   "metadata": {},
   "outputs": [],
   "source": []
  },
  {
   "cell_type": "code",
   "execution_count": null,
   "metadata": {},
   "outputs": [],
   "source": []
  }
 ],
 "metadata": {
  "kernelspec": {
   "display_name": "Python 3",
   "language": "python",
   "name": "python3"
  },
  "language_info": {
   "codemirror_mode": {
    "name": "ipython",
    "version": 3
   },
   "file_extension": ".py",
   "mimetype": "text/x-python",
   "name": "python",
   "nbconvert_exporter": "python",
   "pygments_lexer": "ipython3",
   "version": "3.7.1"
  }
 },
 "nbformat": 4,
 "nbformat_minor": 2
}
