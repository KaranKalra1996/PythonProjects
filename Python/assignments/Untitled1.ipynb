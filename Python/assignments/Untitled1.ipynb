{
 "cells": [
  {
   "cell_type": "code",
   "execution_count": null,
   "metadata": {},
   "outputs": [],
   "source": []
  },
  {
   "cell_type": "code",
   "execution_count": 1,
   "metadata": {},
   "outputs": [],
   "source": [
    "dict1 = [{'id':28, 'rank':1},{'id':92, 'rank':0.5},{'id':36, 'rank':0.3},{'id':32, 'rank':0.25},{'id':85, 'rank':0.2}]"
   ]
  },
  {
   "cell_type": "code",
   "execution_count": 3,
   "metadata": {},
   "outputs": [],
   "source": [
    "dict2 = [{'id':82, 'rank':1},{'id':35, 'rank':0.5},{'id':66, 'rank':0.3},{'id':42, 'rank':0.25},{'id':55, 'rank':0.2}]"
   ]
  },
  {
   "cell_type": "code",
   "execution_count": 4,
   "metadata": {},
   "outputs": [],
   "source": [
    "dict3 = [{'id':82, 'rank':1},{'id':48, 'rank':0.5},{'id':35, 'rank':0.3},{'id':30, 'rank':0.25}]"
   ]
  },
  {
   "cell_type": "code",
   "execution_count": 5,
   "metadata": {},
   "outputs": [
    {
     "data": {
      "text/plain": [
       "5"
      ]
     },
     "execution_count": 5,
     "metadata": {},
     "output_type": "execute_result"
    }
   ],
   "source": [
    "for i in range(len(dict1)):\n",
    "    for j in range(len(dict2)):\n",
    "        if dict1[i]['id'] == dict2[j]['id']:\n",
    "            dict1[i]['id'] = dict1[i]['rank'] + dict2[j]['rank']\n",
    "            del dict2[j]\n",
    "    for j in range(len(dict3)):\n",
    "        if dict1[i]['id'] == dict3[j]['id']:\n",
    "            dict1[i]['id'] = dict1[i]['rank'] + dict3[j]['rank']\n",
    "            del dict3[j]"
   ]
  },
  {
   "cell_type": "code",
   "execution_count": null,
   "metadata": {},
   "outputs": [],
   "source": []
  }
 ],
 "metadata": {
  "kernelspec": {
   "display_name": "Python 3",
   "language": "python",
   "name": "python3"
  },
  "language_info": {
   "codemirror_mode": {
    "name": "ipython",
    "version": 3
   },
   "file_extension": ".py",
   "mimetype": "text/x-python",
   "name": "python",
   "nbconvert_exporter": "python",
   "pygments_lexer": "ipython3",
   "version": "3.7.1"
  }
 },
 "nbformat": 4,
 "nbformat_minor": 2
}
