{
 "cells": [
  {
   "cell_type": "code",
   "execution_count": 53,
   "metadata": {},
   "outputs": [],
   "source": [
    "import numpy as np\n",
    "from numpy import genfromtxt\n",
    "my_data = genfromtxt('https://archive.ics.uci.edu/ml/machine-learning-databases/iris/iris.data',delimiter=',',dtype='unicode')"
   ]
  },
  {
   "cell_type": "code",
   "execution_count": 76,
   "metadata": {},
   "outputs": [],
   "source": [
    "np.random.shuffle(my_data)"
   ]
  },
  {
   "cell_type": "code",
   "execution_count": 77,
   "metadata": {},
   "outputs": [],
   "source": [
    "X_train = np.array(my_data[:90,:4],dtype='float64')\n",
    "X_test = np.array(my_data[90:150,:4],dtype='float64')\n",
    "Y_train = np.array(my_data[:90,4:5])\n",
    "Y_test = np.array(my_data[90:150,4:5])"
   ]
  },
  {
   "cell_type": "code",
   "execution_count": 78,
   "metadata": {},
   "outputs": [
    {
     "name": "stdout",
     "output_type": "stream",
     "text": [
      "91.66666666666666\n"
     ]
    }
   ],
   "source": [
    "val = 6\n",
    "accuracy = 0\n",
    "for index,x in enumerate(X_test):\n",
    "    euclidean_distance=np.sum((X_train - x)**2,axis=1)\n",
    "    euclidean_distance_sort = np.argsort(euclidean_distance)[:val]\n",
    "    flag_setosa = 0\n",
    "    flag_virginica = 0\n",
    "    flag_versicolor = 0\n",
    "    for i in range(0,val):\n",
    "        if Y_train[euclidean_distance_sort[i]] == 'Iris-setosa' :\n",
    "                flag_setosa+=1\n",
    "        elif Y_train[euclidean_distance_sort[i]] == 'Iris-virginica' : \n",
    "                flag_virginica+=1\n",
    "        elif Y_train[euclidean_distance_sort[i]] == 'Iris-versicolor' :\n",
    "                flag_versicolor+=1\n",
    "    temp = \"\"\n",
    "    if flag_setosa > flag_virginica and flag_setosa > flag_versicolor :\n",
    "        temp = 'Iris-setosa'\n",
    "    elif flag_virginica > flag_setosa and flag_virginica > flag_versicolor:\n",
    "        temp = 'Iris-virginica'\n",
    "    elif flag_versicolor > flag_virginica and flag_versicolor > flag_setosa:\n",
    "        temp = 'Iris-versicolor'\n",
    "    if temp == Y_test[index]:\n",
    "        accuracy+=1\n",
    "print((accuracy/60)*100)       \n",
    "        \n",
    "        \n",
    "    "
   ]
  },
  {
   "cell_type": "code",
   "execution_count": null,
   "metadata": {},
   "outputs": [],
   "source": []
  },
  {
   "cell_type": "code",
   "execution_count": null,
   "metadata": {},
   "outputs": [],
   "source": []
  },
  {
   "cell_type": "code",
   "execution_count": null,
   "metadata": {},
   "outputs": [],
   "source": []
  },
  {
   "cell_type": "code",
   "execution_count": null,
   "metadata": {},
   "outputs": [],
   "source": []
  }
 ],
 "metadata": {
  "kernelspec": {
   "display_name": "Python 3",
   "language": "python",
   "name": "python3"
  },
  "language_info": {
   "codemirror_mode": {
    "name": "ipython",
    "version": 3
   },
   "file_extension": ".py",
   "mimetype": "text/x-python",
   "name": "python",
   "nbconvert_exporter": "python",
   "pygments_lexer": "ipython3",
   "version": "3.7.1"
  }
 },
 "nbformat": 4,
 "nbformat_minor": 2
}
